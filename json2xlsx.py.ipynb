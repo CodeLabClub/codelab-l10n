{
 "cells": [
  {
   "cell_type": "code",
   "execution_count": 1,
   "metadata": {},
   "outputs": [],
   "source": [
    "from py_mini_racer import py_mini_racer\n",
    "import pandas as pd"
   ]
  },
  {
   "cell_type": "code",
   "execution_count": 2,
   "metadata": {},
   "outputs": [],
   "source": [
    "ctx = py_mini_racer.MiniRacer()"
   ]
  },
  {
   "cell_type": "code",
   "execution_count": 3,
   "metadata": {},
   "outputs": [],
   "source": [
    "# 使用l10n.js而不是l10n.json，是因为js可以加注释，纯json不能加注释\n",
    "with open(\"l10n.js\") as f:\n",
    "    js_code = f.read();\n",
    "    ctx.eval(js_code)\n",
    "json = ctx.eval(\"json\") # list"
   ]
  },
  {
   "cell_type": "code",
   "execution_count": 4,
   "metadata": {},
   "outputs": [
    {
     "name": "stdout",
     "output_type": "stream",
     "text": [
      "lang: en\n",
      "   wechat\n",
      "   vector\n",
      "   usbMicrobit\n",
      "   microbit\n",
      "   ubtrobot\n",
      "   cxtello\n",
      "   Scratch3Pose\n",
      "   mpfshell\n",
      "   knn\n",
      "   leapMotion\n",
      "   cxhomeassistant\n",
      "   eim\n",
      "   cozmo\n",
      "   griffpatch\n",
      "   blender\n",
      "lang: zh-cn\n",
      "   codelab\n",
      "   usbMicrobit\n",
      "   cozmo\n",
      "   vector\n",
      "   cxtello\n",
      "   cxhomeassistant\n",
      "   eim\n",
      "   wechat\n",
      "   Scratch3Pose\n",
      "   knn\n"
     ]
    }
   ],
   "source": [
    "# 列出所有语言 以及extension_id\n",
    "extensions = set()\n",
    "for lang in json:\n",
    "    print(\"lang:\",lang)\n",
    "    extension_ids = []\n",
    "    for text_id, text in json[lang].items():\n",
    "        extension_id = text_id.split(\".\")[0]\n",
    "        if extension_id in extension_ids:\n",
    "            continue\n",
    "        else:\n",
    "            extension_ids.append(extension_id)\n",
    "            print(\"  \",extension_id)"
   ]
  },
  {
   "cell_type": "code",
   "execution_count": 5,
   "metadata": {},
   "outputs": [],
   "source": [
    "# 使用pandas, 输出为xlsx\n",
    "json['jp'] = {}\n",
    "df = pd.DataFrame(json)"
   ]
  },
  {
   "cell_type": "code",
   "execution_count": 6,
   "metadata": {},
   "outputs": [],
   "source": [
    "df.to_excel(\"l10n.xlsx\")"
   ]
  }
 ],
 "metadata": {
  "kernelspec": {
   "display_name": "Python 3",
   "language": "python",
   "name": "python3"
  },
  "language_info": {
   "codemirror_mode": {
    "name": "ipython",
    "version": 3
   },
   "file_extension": ".py",
   "mimetype": "text/x-python",
   "name": "python",
   "nbconvert_exporter": "python",
   "pygments_lexer": "ipython3",
   "version": "3.7.2"
  }
 },
 "nbformat": 4,
 "nbformat_minor": 2
}
